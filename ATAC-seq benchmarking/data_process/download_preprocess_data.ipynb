{
 "cells": [
  {
   "cell_type": "code",
   "execution_count": 1,
   "metadata": {},
   "outputs": [],
   "source": [
    "import pandas as pd\n",
    "import subprocess\n",
    "import pybedtools\n",
    "%matplotlib inline"
   ]
  },
  {
   "cell_type": "code",
   "execution_count": 2,
   "metadata": {},
   "outputs": [],
   "source": [
    "meta_data = pd.read_csv('/data/data_repo/samzhao/F_seq/ATAC_seq_benchmark/GM12878/FeatureFiles_chip/metadata_gm12878.tsv', sep='\\t')"
   ]
  },
  {
   "cell_type": "code",
   "execution_count": 8,
   "metadata": {},
   "outputs": [
    {
     "data": {
      "text/plain": [
       "array(['optimal IDR thresholded peaks',\n",
       "       'peaks and background as input for IDR',\n",
       "       'conservative IDR thresholded peaks', 'peaks',\n",
       "       'pseudoreplicated IDR thresholded peaks'], dtype=object)"
      ]
     },
     "execution_count": 8,
     "metadata": {},
     "output_type": "execute_result"
    }
   ],
   "source": [
    "meta_data['Output type'].unique()"
   ]
  },
  {
   "cell_type": "code",
   "execution_count": 29,
   "metadata": {},
   "outputs": [],
   "source": [
    "optimal_IDR_peaks = meta_data[(meta_data['File assembly'] == 'hg19') & (meta_data['Output type'] == 'optimal IDR thresholded peaks')]"
   ]
  },
  {
   "cell_type": "code",
   "execution_count": 31,
   "metadata": {},
   "outputs": [],
   "source": [
    "for url in optimal_IDR_peaks['File download URL']:\n",
    "    subprocess.run(f\"wget {url} -P /data/data_repo/samzhao/F_seq/ATAC_seq_benchmark/GM12878/FeatureFiles_chip/\", shell=True)"
   ]
  },
  {
   "cell_type": "code",
   "execution_count": 33,
   "metadata": {},
   "outputs": [],
   "source": [
    "!zcat /data/data_repo/samzhao/F_seq/ATAC_seq_benchmark/GM12878/FeatureFiles_chip/EN*.gz | sort -k1,1 -k2,2n > /data/data_repo/samzhao/F_seq/ATAC_seq_benchmark/GM12878/FeatureFiles_chip/optimal_IDR_peaks_184_hg19.bed"
   ]
  },
  {
   "cell_type": "raw",
   "metadata": {},
   "source": [
    "module load BEDTools\n",
    "bedtools merge -i optimal_IDR_peaks_184_hg19.bed > optimal_IDR_peaks_184_merged_hg19.bed\n",
    "mv optimal_IDR_peaks_184_merged_hg19.bed /home/samzhao/F_seq/ATAC_seq_benchmark/GM12878/FeatureFiles_chip/"
   ]
  },
  {
   "cell_type": "code",
   "execution_count": 13,
   "metadata": {},
   "outputs": [
    {
     "data": {
      "text/html": [
       "<div>\n",
       "<style scoped>\n",
       "    .dataframe tbody tr th:only-of-type {\n",
       "        vertical-align: middle;\n",
       "    }\n",
       "\n",
       "    .dataframe tbody tr th {\n",
       "        vertical-align: top;\n",
       "    }\n",
       "\n",
       "    .dataframe thead th {\n",
       "        text-align: right;\n",
       "    }\n",
       "</style>\n",
       "<table border=\"1\" class=\"dataframe\">\n",
       "  <thead>\n",
       "    <tr style=\"text-align: right;\">\n",
       "      <th></th>\n",
       "      <th>0</th>\n",
       "      <th>1</th>\n",
       "      <th>2</th>\n",
       "    </tr>\n",
       "  </thead>\n",
       "  <tbody>\n",
       "    <tr>\n",
       "      <th>0</th>\n",
       "      <td>chr1</td>\n",
       "      <td>9921</td>\n",
       "      <td>10265</td>\n",
       "    </tr>\n",
       "    <tr>\n",
       "      <th>1</th>\n",
       "      <td>chr1</td>\n",
       "      <td>267782</td>\n",
       "      <td>268226</td>\n",
       "    </tr>\n",
       "    <tr>\n",
       "      <th>2</th>\n",
       "      <td>chr1</td>\n",
       "      <td>610619</td>\n",
       "      <td>610807</td>\n",
       "    </tr>\n",
       "    <tr>\n",
       "      <th>3</th>\n",
       "      <td>chr1</td>\n",
       "      <td>629594</td>\n",
       "      <td>630084</td>\n",
       "    </tr>\n",
       "    <tr>\n",
       "      <th>4</th>\n",
       "      <td>chr1</td>\n",
       "      <td>633797</td>\n",
       "      <td>634241</td>\n",
       "    </tr>\n",
       "    <tr>\n",
       "      <th>...</th>\n",
       "      <td>...</td>\n",
       "      <td>...</td>\n",
       "      <td>...</td>\n",
       "    </tr>\n",
       "    <tr>\n",
       "      <th>239780</th>\n",
       "      <td>chrY</td>\n",
       "      <td>15355488</td>\n",
       "      <td>15355641</td>\n",
       "    </tr>\n",
       "    <tr>\n",
       "      <th>239781</th>\n",
       "      <td>chrY</td>\n",
       "      <td>26669203</td>\n",
       "      <td>26669567</td>\n",
       "    </tr>\n",
       "    <tr>\n",
       "      <th>239782</th>\n",
       "      <td>chrY</td>\n",
       "      <td>26670282</td>\n",
       "      <td>26671840</td>\n",
       "    </tr>\n",
       "    <tr>\n",
       "      <th>239783</th>\n",
       "      <td>chrY</td>\n",
       "      <td>56685421</td>\n",
       "      <td>56685741</td>\n",
       "    </tr>\n",
       "    <tr>\n",
       "      <th>239784</th>\n",
       "      <td>chrY</td>\n",
       "      <td>56707042</td>\n",
       "      <td>56707406</td>\n",
       "    </tr>\n",
       "  </tbody>\n",
       "</table>\n",
       "<p>239785 rows × 3 columns</p>\n",
       "</div>"
      ],
      "text/plain": [
       "           0         1         2\n",
       "0       chr1      9921     10265\n",
       "1       chr1    267782    268226\n",
       "2       chr1    610619    610807\n",
       "3       chr1    629594    630084\n",
       "4       chr1    633797    634241\n",
       "...      ...       ...       ...\n",
       "239780  chrY  15355488  15355641\n",
       "239781  chrY  26669203  26669567\n",
       "239782  chrY  26670282  26671840\n",
       "239783  chrY  56685421  56685741\n",
       "239784  chrY  56707042  56707406\n",
       "\n",
       "[239785 rows x 3 columns]"
      ]
     },
     "execution_count": 13,
     "metadata": {},
     "output_type": "execute_result"
    }
   ],
   "source": [
    "peaks = pd.read_csv('optimal_IDR_peaks_117_merged.bed', sep='\\t', header=None)\n",
    "peaks"
   ]
  },
  {
   "cell_type": "code",
   "execution_count": 14,
   "metadata": {},
   "outputs": [
    {
     "data": {
      "text/plain": [
       "<matplotlib.axes._subplots.AxesSubplot at 0x7f2ae18a95c0>"
      ]
     },
     "execution_count": 14,
     "metadata": {},
     "output_type": "execute_result"
    },
    {
     "data": {
      "image/png": "[encoded data removed]",
      "text/plain": [
       "<Figure size 432x288 with 1 Axes>"
      ]
     },
     "metadata": {},
     "output_type": "display_data"
    }
   ],
   "source": [
    "(peaks[2] - peaks[1]).hist(bins=100)"
   ]
  },
  {
   "cell_type": "code",
   "execution_count": 15,
   "metadata": {},
   "outputs": [
    {
     "data": {
      "text/plain": [
       "count    239785.000000\n",
       "mean        604.807365\n",
       "std         502.805104\n",
       "min          58.000000\n",
       "25%         350.000000\n",
       "50%         444.000000\n",
       "75%         700.000000\n",
       "max       55069.000000\n",
       "dtype: float64"
      ]
     },
     "execution_count": 15,
     "metadata": {},
     "output_type": "execute_result"
    }
   ],
   "source": [
    "(peaks[2] - peaks[1]).describe()"
   ]
  },
  {
   "cell_type": "code",
   "execution_count": 35,
   "metadata": {},
   "outputs": [],
   "source": [
    "conservative_IDR_peaks = meta_data[(meta_data['File assembly'] == 'hg19') & (meta_data['Output type'] == 'conservative IDR thresholded peaks')]"
   ]
  },
  {
   "cell_type": "code",
   "execution_count": 36,
   "metadata": {},
   "outputs": [],
   "source": [
    "for url in conservative_IDR_peaks['File download URL']:\n",
    "    subprocess.run(f\"wget {url} -P /data/data_repo/samzhao/F_seq/ATAC_seq_benchmark/GM12878/FeatureFiles_chip/conservative/\", shell=True)"
   ]
  },
  {
   "cell_type": "code",
   "execution_count": 37,
   "metadata": {},
   "outputs": [],
   "source": [
    "!zcat /data/data_repo/samzhao/F_seq/ATAC_seq_benchmark/GM12878/FeatureFiles_chip/conservative/EN*.gz | sort -k1,1 -k2,2n > /data/data_repo/samzhao/F_seq/ATAC_seq_benchmark/GM12878/FeatureFiles_chip/conservative/conservative_IDR_peaks_117_hg19.bed"
   ]
  },
  {
   "cell_type": "code",
   "execution_count": null,
   "metadata": {},
   "outputs": [],
   "source": []
  }
 ],
 "metadata": {
  "kernelspec": {
   "display_name": "Python 3",
   "language": "python",
   "name": "python3"
  },
  "language_info": {
   "codemirror_mode": {
    "name": "ipython",
    "version": 3
   },
   "file_extension": ".py",
   "mimetype": "text/x-python",
   "name": "python",
   "nbconvert_exporter": "python",
   "pygments_lexer": "ipython3",
   "version": "3.6.7"
  }
 },
 "nbformat": 4,
 "nbformat_minor": 2
}
